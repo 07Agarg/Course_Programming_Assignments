{
 "cells": [
  {
   "cell_type": "code",
   "execution_count": 3,
   "metadata": {
    "colab": {
     "base_uri": "https://localhost:8080/",
     "height": 122
    },
    "colab_type": "code",
    "id": "Em3u7h8lJQ6N",
    "outputId": "96539583-7e3f-43fe-ab08-e43ef9f687be"
   },
   "outputs": [
    {
     "name": "stdout",
     "output_type": "stream",
     "text": [
      "Go to this URL in a browser: https://accounts.google.com/o/oauth2/auth?client_id=947318989803-6bn6qk8qdgf4n4g3pfee6491hc0brc4i.apps.googleusercontent.com&redirect_uri=urn%3Aietf%3Awg%3Aoauth%3A2.0%3Aoob&scope=email%20https%3A%2F%2Fwww.googleapis.com%2Fauth%2Fdocs.test%20https%3A%2F%2Fwww.googleapis.com%2Fauth%2Fdrive%20https%3A%2F%2Fwww.googleapis.com%2Fauth%2Fdrive.photos.readonly%20https%3A%2F%2Fwww.googleapis.com%2Fauth%2Fpeopleapi.readonly&response_type=code\n",
      "\n",
      "Enter your authorization code:\n",
      "··········\n",
      "Mounted at /content/drive\n"
     ]
    }
   ],
   "source": [
    "from google.colab import drive \n",
    "drive.mount('/content/drive')"
   ]
  },
  {
   "cell_type": "code",
   "execution_count": 4,
   "metadata": {
    "colab": {
     "base_uri": "https://localhost:8080/",
     "height": 34
    },
    "colab_type": "code",
    "id": "jUzvI3IbJdgt",
    "outputId": "b2c3f567-22d5-493a-ac93-794ae0c71771"
   },
   "outputs": [
    {
     "name": "stdout",
     "output_type": "stream",
     "text": [
      "drive  sample_data\n"
     ]
    }
   ],
   "source": [
    "!ls"
   ]
  },
  {
   "cell_type": "code",
   "execution_count": 5,
   "metadata": {
    "colab": {
     "base_uri": "https://localhost:8080/",
     "height": 34
    },
    "colab_type": "code",
    "id": "hZEIrgKYJeXk",
    "outputId": "1ccd3e07-3a64-4f00-e8dc-09e6cfc2f025"
   },
   "outputs": [
    {
     "name": "stdout",
     "output_type": "stream",
     "text": [
      "/content/drive/My Drive/Prog Assignment1/Solution 1\n"
     ]
    }
   ],
   "source": [
    "cd drive/My Drive/Prog Assignment1/Solution 1"
   ]
  },
  {
   "cell_type": "code",
   "execution_count": 17,
   "metadata": {
    "colab": {
     "base_uri": "https://localhost:8080/",
     "height": 51
    },
    "colab_type": "code",
    "id": "EECKJr2CJwfc",
    "outputId": "c00e5b0e-4ffd-45c8-e8fd-d90721faf585"
   },
   "outputs": [
    {
     "name": "stdout",
     "output_type": "stream",
     "text": [
      "AstarNode.py  BFS.py  IDA_Star.py  min_heap.py\ttemp.py\n",
      "Astar.py      DFS.py  main.py\t   __pycache__\tutils.py\n"
     ]
    }
   ],
   "source": [
    "!ls"
   ]
  },
  {
   "cell_type": "code",
   "execution_count": 20,
   "metadata": {
    "colab": {
     "base_uri": "https://localhost:8080/",
     "height": 754
    },
    "colab_type": "code",
    "id": "KpJNcv5-_syE",
    "outputId": "6c1c8fce-5a6a-4ddd-9369-f821f8d1831b"
   },
   "outputs": [
    {
     "name": "stdout",
     "output_type": "stream",
     "text": [
      "For N - 8\n",
      "BFS executing time for N = 8: 0.0020606517791748047 seconds\n",
      "AStar executing time for N = 8: 0.0018434524536132812 seconds\n",
      "Solved with heurisitc  6\n",
      "IDA Star executing time for N = 8: 0.002432107925415039 seconds\n",
      "\n",
      "\n",
      "\n",
      "\n",
      "For N-15\n",
      "BFS executing time for N = 15: 0.0030090808868408203 seconds\n",
      "AStar executing time for N = 15: 0.0025703907012939453 seconds\n",
      "Solved with heurisitc  6\n",
      "IDA Star executing time for N = 15: 0.0027375221252441406 seconds\n",
      "\n",
      "\n",
      "\n",
      "\n",
      "For N - 24\n",
      "BFS executing time for N = 24: 0.0033240318298339844 seconds\n",
      "AStar executing time for N = 24: 0.0033228397369384766 seconds\n",
      "Solved with heurisitc  6\n",
      "IDA Star executing time for N = 24: 0.003545999526977539 seconds\n",
      "\n",
      "\n",
      "\n",
      "\n"
     ]
    },
    {
     "data": {
      "image/png": "[encoded data removed]",
      "text/plain": [
       "<Figure size 432x288 with 1 Axes>"
      ]
     },
     "metadata": {
      "tags": []
     },
     "output_type": "display_data"
    }
   ],
   "source": [
    "#%%writefile main.py\n",
    "# -*- coding: utf-8 -*-\n",
    "\"\"\"\n",
    "Created on Sat Sep  7 15:06:48 2019\n",
    "\n",
    "@author: ashima\n",
    "\"\"\"\n",
    "\n",
    "%matplotlib inline\n",
    "import BFS\n",
    "import DFS\n",
    "import Astar\n",
    "import IDA_Star\n",
    "import time\n",
    "import numpy as np\n",
    "import matplotlib.pyplot as plt\n",
    "\n",
    "def main(start, goal, A, B, N):\n",
    "    t = []\n",
    "    start_time_bfs = time.time()\n",
    "    BFS.bfs(np.asarray(start), np.asarray(goal), A, B)\n",
    "    t1 = (time.time() - start_time_bfs)\n",
    "    print(\"BFS executing time for N = {}: {} seconds\".format(N, t1))\n",
    "    \n",
    "    #start_time_dfs = time.time()\n",
    "    #DFS.dfs(np.asarray(start), np.asarray(goal), A, B)\n",
    "    #t2 = (time.time() - start_time_dfs)\n",
    "    #print(\"DFS executing time for N = {}: {} seconds\".format(N, t2))\n",
    "    \n",
    "    start_time_Astar = time.time()\n",
    "    Astar.Astar(np.asarray(start), np.asarray(goal), A, B)\n",
    "    t3 = (time.time() - start_time_Astar)\n",
    "    print(\"AStar executing time for N = {}: {} seconds\".format(N, t3))\n",
    "    \n",
    "    start_time_IDAStar = time.time()\n",
    "    IDA_Star.IDAStar(np.asarray(start), np.asarray(goal), A, B)\n",
    "    t4 = (time.time() - start_time_IDAStar)\n",
    "    print(\"IDA Star executing time for N = {}: {} seconds\".format(N, t4))\n",
    "    \n",
    "    t = [t1, t3, t4]\n",
    "    return t\n",
    "\n",
    "if __name__ == \"__main__\":    \n",
    "    #N = 8\n",
    "    print(\"For N - 8\")\n",
    "    M, N = 3, 3 \n",
    "    goal = [['1', '2', '3'], ['5', '8', '6'], ['E', '7', '4']]\n",
    "    start = [['1', '2', '3'], ['5', '6', 'E'], ['7', '8', '4']]\n",
    "    \n",
    "    t1 = main(start, goal, M, N, 8)\n",
    "    print(\"\\n\\n\\n\")\n",
    "    print(\"For N-15\")\n",
    "    #N = 15\n",
    "    M, N = 4, 4\n",
    "    goal = [['1', '2', '3', '4'], ['5', '6', '7', '8'], ['9', '10', '11', '12'], ['13', '14', '15', 'E']]\n",
    "    start = [['1', '2', '3', '4'], ['5', '6', 'E', '8'], ['9', '10', '7', '11'], ['13', '14', '15', '12']]\n",
    "    \n",
    "    t2 = main(start, goal, M, N, 15)\n",
    "    print(\"\\n\\n\\n\")\n",
    "    print(\"For N - 24\")\n",
    "    #N = 24\n",
    "    M, N = 5, 5\n",
    "    goal = [['1', '2', '3', '4', '5'], ['6', '7', '8', '9', '10'], ['11', '12', '13', '14', '15'], ['16', '17', '18', '19', '20'], ['21', '22', '23', '24', 'E']]\n",
    "    start = [['1', '2', '3', '4', '5'], ['6', '7', '8', '9', '10'], ['11', '12', '13', 'E', '15'], ['16', '17', '18', '14', '19'], ['21', '22', '23', '24', '20']]\n",
    "    \n",
    "    t3 = main(start, goal, M, N, 24)\n",
    "    print(\"\\n\\n\\n\")\n",
    "    \n",
    "    #Plot the graph to show analysis\n",
    "    #N = [8, 16, 24]\n",
    "    barwidth = 0.25\n",
    "    # Set position of bar on X axis\n",
    "    r1 = np.arange(len(t1))\n",
    "    r2 = [x + barwidth for x in r1]\n",
    "    r3 = [x + barwidth for x in r2]\n",
    " \n",
    "    colors = ['r', 'b', 'g']\n",
    "    \n",
    "    plt.bar(r1, t1, width = barwidth, color = colors[0], label = 'N = 8')\n",
    "    plt.bar(r2, t2, width = barwidth, color = colors[1], label = 'N = 15')\n",
    "    plt.bar(r3, t3, width = barwidth, color = colors[2], label = 'N = 24')\n",
    "    \n",
    "    plt.xticks([r + barwidth for r in range(len(t1))], ['BFS', 'A-Star', 'IDA-Star'])\n",
    "    plt.xlabel('Algorithms')\n",
    "    plt.ylabel('Execution Time')\n",
    "    plt.title('Time Analysis')\n",
    "    \n",
    "    plt.legend()\n",
    "    plt.show()\n",
    "    "
   ]
  },
  {
   "cell_type": "code",
   "execution_count": 0,
   "metadata": {
    "colab": {},
    "colab_type": "code",
    "id": "ezxSNT9rC4Mz"
   },
   "outputs": [],
   "source": []
  },
  {
   "cell_type": "code",
   "execution_count": 0,
   "metadata": {
    "colab": {},
    "colab_type": "code",
    "id": "scQ36OCMAhIZ"
   },
   "outputs": [],
   "source": [
    "#!python main.py"
   ]
  },
  {
   "cell_type": "code",
   "execution_count": 0,
   "metadata": {
    "colab": {},
    "colab_type": "code",
    "id": "BkHwfPgAAnfN"
   },
   "outputs": [],
   "source": []
  }
 ],
 "metadata": {
  "accelerator": "GPU",
  "colab": {
   "collapsed_sections": [],
   "name": "AI Prog Assignment 1.ipynb",
   "provenance": [],
   "version": "0.3.2"
  },
  "kernelspec": {
   "display_name": "Python 3",
   "language": "python",
   "name": "python3"
  },
  "language_info": {
   "codemirror_mode": {
    "name": "ipython",
    "version": 3
   },
   "file_extension": ".py",
   "mimetype": "text/x-python",
   "name": "python",
   "nbconvert_exporter": "python",
   "pygments_lexer": "ipython3",
   "version": "3.6.6"
  }
 },
 "nbformat": 4,
 "nbformat_minor": 1
}
