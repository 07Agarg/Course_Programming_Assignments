{
  "nbformat": 4,
  "nbformat_minor": 0,
  "metadata": {
    "colab": {
      "name": "DFS.ipynb",
      "version": "0.3.2",
      "provenance": []
    },
    "kernelspec": {
      "name": "python3",
      "display_name": "Python 3"
    },
    "accelerator": "GPU"
  },
  "cells": [
    {
      "cell_type": "code",
      "metadata": {
        "id": "LBioPnuwNtML",
        "colab_type": "code",
        "colab": {
          "base_uri": "https://localhost:8080/",
          "height": 122
        },
        "outputId": "8728b6bf-8d4e-4891-9bcf-5491c23529ba"
      },
      "source": [
        "from google.colab import drive \n",
        "drive.mount('/content/drive')"
      ],
      "execution_count": 1,
      "outputs": [
        {
          "output_type": "stream",
          "text": [
            "Go to this URL in a browser: https://accounts.google.com/o/oauth2/auth?client_id=947318989803-6bn6qk8qdgf4n4g3pfee6491hc0brc4i.apps.googleusercontent.com&redirect_uri=urn%3Aietf%3Awg%3Aoauth%3A2.0%3Aoob&scope=email%20https%3A%2F%2Fwww.googleapis.com%2Fauth%2Fdocs.test%20https%3A%2F%2Fwww.googleapis.com%2Fauth%2Fdrive%20https%3A%2F%2Fwww.googleapis.com%2Fauth%2Fdrive.photos.readonly%20https%3A%2F%2Fwww.googleapis.com%2Fauth%2Fpeopleapi.readonly&response_type=code\n",
            "\n",
            "Enter your authorization code:\n",
            "··········\n",
            "Mounted at /content/drive\n"
          ],
          "name": "stdout"
        }
      ]
    },
    {
      "cell_type": "code",
      "metadata": {
        "id": "BqliEU08Nyrz",
        "colab_type": "code",
        "colab": {
          "base_uri": "https://localhost:8080/",
          "height": 34
        },
        "outputId": "07c636ee-cb15-484e-b0d1-3b06cd3c3897"
      },
      "source": [
        "!ls"
      ],
      "execution_count": 2,
      "outputs": [
        {
          "output_type": "stream",
          "text": [
            "drive  sample_data\n"
          ],
          "name": "stdout"
        }
      ]
    },
    {
      "cell_type": "code",
      "metadata": {
        "id": "sGIef5aNN1HT",
        "colab_type": "code",
        "colab": {
          "base_uri": "https://localhost:8080/",
          "height": 34
        },
        "outputId": "c64c8846-fa62-4772-dc58-d3621c2e6950"
      },
      "source": [
        "cd drive/My Drive/Prog Assignment1/Solution 1"
      ],
      "execution_count": 3,
      "outputs": [
        {
          "output_type": "stream",
          "text": [
            "/content/drive/My Drive/Prog Assignment1/Solution 1\n"
          ],
          "name": "stdout"
        }
      ]
    },
    {
      "cell_type": "code",
      "metadata": {
        "id": "hZoRQiVJN39D",
        "colab_type": "code",
        "colab": {
          "base_uri": "https://localhost:8080/",
          "height": 51
        },
        "outputId": "88f3267a-9821-4e2e-ab93-bd5ba130b41a"
      },
      "source": [
        "!ls"
      ],
      "execution_count": 4,
      "outputs": [
        {
          "output_type": "stream",
          "text": [
            "AstarNode.py  BFS.py  IDA_Star.py  min_heap.py\ttemp.py\n",
            "Astar.py      DFS.py  main.py\t   __pycache__\tutils.py\n"
          ],
          "name": "stdout"
        }
      ]
    },
    {
      "cell_type": "code",
      "metadata": {
        "id": "WtEXCuiQN5lb",
        "colab_type": "code",
        "colab": {}
      },
      "source": [
        "#!cat DFS.py"
      ],
      "execution_count": 0,
      "outputs": []
    },
    {
      "cell_type": "code",
      "metadata": {
        "id": "RmgYg1FwvefG",
        "colab_type": "code",
        "colab": {}
      },
      "source": [
        "import numpy as np\n",
        "import copy\n",
        "\n",
        "dx = [1, 0, -1, 0]\n",
        "dy = [0, 1, 0, -1]\n",
        "\n",
        "def convert_tostring(state, M, N):\n",
        "    string = \"\"\n",
        "    string = \" \".join(state[i][j] for i in range(M) for j in range(N))\n",
        "    return string            \n",
        "\n",
        "def convert_tostate(string, M, N):\n",
        "    state = []\n",
        "    string = string.split()\n",
        "    p = 0\n",
        "    for i in range(M):\n",
        "        t = []\n",
        "        for j in range(N):\n",
        "            t.append(string[p])\n",
        "            p += 1\n",
        "        state.append(t)\n",
        "    return np.asarray(state)\n",
        "    \n",
        "def isSafe(i, j, M, N):\n",
        "    return i >= 0 and i < M and j >= 0 and j < N\n",
        "\n",
        "def find_successors(state, M, N):\n",
        "    empty_coord = np.where(state == 'E')\n",
        "    successors = []\n",
        "    for i in range(4):\n",
        "        new_x = empty_coord[0][0] + dx[i]\n",
        "        new_y = empty_coord[1][0] + dy[i]\n",
        "        if isSafe(new_x, new_y, M, N):\n",
        "            new_state = copy.copy(state)\n",
        "            val = new_state[new_x][new_y]\n",
        "            new_state[new_x][new_y] = 'E'\n",
        "            new_state[empty_coord[0][0]][empty_coord[1][0]] = val\n",
        "            successors.append(convert_tostring(new_state, M, N))\n",
        "    return successors            \n",
        "\n",
        "def isCompleted(s, goal_string):\n",
        "    for i in range(len(s)):\n",
        "        if s[i] != goal_string[i]:\n",
        "            return False\n",
        "    return True"
      ],
      "execution_count": 0,
      "outputs": []
    },
    {
      "cell_type": "code",
      "metadata": {
        "id": "Zgwc8zTDOGAR",
        "colab_type": "code",
        "colab": {
          "base_uri": "https://localhost:8080/",
          "height": 51
        },
        "outputId": "6b6d4eb1-677e-4d29-8cd9-a675dd026ac6"
      },
      "source": [
        "import numpy as np\n",
        "import time\n",
        "#from utils import convert_tostring, convert_tostate, find_successors, isCompleted\n",
        "\n",
        "def dfs(start, goal, M, N):\n",
        "    stack = []\n",
        "    exploredSet = []\n",
        "    stack.append(convert_tostring(start, M, N))\n",
        "    goal_string = convert_tostring(goal, M, N)\n",
        "    #f.write(\"start\\n\")\n",
        "    while stack:\n",
        "        s = stack.pop()\n",
        "        if isCompleted(s, goal_string):\n",
        "            return \"Solved\"\n",
        "        exploredSet.append(s)\n",
        "        state = convert_tostate(s, M, N)\n",
        "        successors = find_successors(state, M, N)\n",
        "        for i in successors:\n",
        "            if i in exploredSet:\n",
        "                continue\n",
        "            stack.append(i)\n",
        "    \n",
        "    \n",
        "if __name__ == \"__main__\":\n",
        "    M, N = 3,3\n",
        "    goal = [['1', '2', '3'], ['5', '8', '6'], ['E', '7', '4']]\n",
        "    start = [['1', '2', '3'], ['5', '6', 'E'], ['7', '8', '4']]\n",
        "    ans = dfs(np.asarray(start), np.asarray(goal), M, N)\n",
        "    start_time_dfs = time.time()\n",
        "    t2 = (time.time() - start_time_dfs)\n",
        "    N1 = 8\n",
        "    print(\"DFS executing time for N = {}: {} seconds\".format(N1, t2))\n",
        "    print(ans)"
      ],
      "execution_count": 8,
      "outputs": [
        {
          "output_type": "stream",
          "text": [
            "DFS executing time for N = 8: 1.6689300537109375e-06 seconds\n",
            "Solved\n"
          ],
          "name": "stdout"
        }
      ]
    },
    {
      "cell_type": "code",
      "metadata": {
        "id": "hYglpHnvOSEW",
        "colab_type": "code",
        "colab": {}
      },
      "source": [
        ""
      ],
      "execution_count": 0,
      "outputs": []
    }
  ]
}